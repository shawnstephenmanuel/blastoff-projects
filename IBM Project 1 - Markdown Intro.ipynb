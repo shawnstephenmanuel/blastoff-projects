{
  "metadata": {
    "kernelspec": {
      "name": "python",
      "display_name": "Pyolite",
      "language": "python"
    },
    "language_info": {
      "codemirror_mode": {
        "name": "python",
        "version": 3
      },
      "file_extension": ".py",
      "mimetype": "text/x-python",
      "name": "python",
      "nbconvert_exporter": "python",
      "pygments_lexer": "ipython3",
      "version": "3.8"
    }
  },
  "nbformat_minor": 4,
  "nbformat": 4,
  "cells": [
    {
      "cell_type": "markdown",
      "source": "<center>\n    <img src=\"https://s3-api.us-geo.objectstorage.softlayer.net/cf-courses-data/CognitiveClass/Logos/organization_logo/organization_logo.png\" width=\"300\" alt=\"cognitiveclass.ai logo\"  />\n</center>\n",
      "metadata": {}
    },
    {
      "cell_type": "markdown",
      "source": "# My Jupyter Notebook on IBM Watson Studio",
      "metadata": {}
    },
    {
      "cell_type": "markdown",
      "source": "**Shawn Manuel**<br>\nMaster's Student in Biomedical Sciences",
      "metadata": {}
    },
    {
      "cell_type": "markdown",
      "source": "*My interest in data science stems from my passion for scientific research, specifically in the fields adjacent to psychology and cognitive science. Beyond my accademic activities, I strive to develop a diverse set of technical abilities that I'll be able to translate into marketable assets for future employers outside of academia.*",
      "metadata": {}
    },
    {
      "cell_type": "markdown",
      "source": "### The code below will multiply Pi by 2. ",
      "metadata": {
        "tags": []
      }
    },
    {
      "cell_type": "code",
      "source": "3.12415 * 2",
      "metadata": {
        "trusted": true
      },
      "execution_count": 16,
      "outputs": [
        {
          "execution_count": 16,
          "output_type": "execute_result",
          "data": {
            "text/plain": "6.2483"
          },
          "metadata": {}
        }
      ]
    },
    {
      "cell_type": "markdown",
      "source": "***",
      "metadata": {}
    },
    {
      "cell_type": "markdown",
      "source": "![This is a cool tree](C:\\Users\\admin1\\Documents\\Pictures\\Roots.jpg \"Roots Down to Hell\")",
      "metadata": {}
    },
    {
      "cell_type": "markdown",
      "source": "Table, in case tree image doesn't show:\n\n| Syntax      | Description |\n| ----------- | ----------- |\n| ce      | Title       |\n| Paragraph   | Text        |",
      "metadata": {}
    },
    {
      "cell_type": "markdown",
      "source": "Feel free to check out what I'm up to on [LinkedIn](www.linkedin.com/in/shawnsmanuel)!",
      "metadata": {}
    }
  ]
}